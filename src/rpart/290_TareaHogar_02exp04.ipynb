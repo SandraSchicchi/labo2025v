{
  "nbformat": 4,
  "nbformat_minor": 0,
  "metadata": {
    "colab": {
      "provenance": [],
      "include_colab_link": true
    },
    "kernelspec": {
      "name": "ir",
      "display_name": "R"
    },
    "language_info": {
      "name": "R"
    }
  },
  "cells": [
    {
      "cell_type": "markdown",
      "metadata": {
        "id": "view-in-github",
        "colab_type": "text"
      },
      "source": [
        "<a href=\"https://colab.research.google.com/github/SandraSchicchi/labo2025v/blob/main/src/rpart/290_TareaHogar_02exp04.ipynb\" target=\"_parent\"><img src=\"https://colab.research.google.com/assets/colab-badge.svg\" alt=\"Open In Colab\"/></a>"
      ]
    },
    {
      "cell_type": "markdown",
      "source": [
        "# Tarea para el Hogar 02"
      ],
      "metadata": {
        "id": "F3r8aa3pBigj"
      }
    },
    {
      "cell_type": "markdown",
      "source": [
        "Esta Tarea para el Hogar 02 se entrega el final de la segunda clase\n",
        "<br> se espera de usted que intente avanzar con los desafios propuestos y que los traiga terminados para la Clase 03, ya que se analizarán los resultados"
      ],
      "metadata": {
        "id": "nBm4ktHUBmZt"
      }
    },
    {
      "cell_type": "markdown",
      "source": [
        "##  1. Ensembles de Modelos"
      ],
      "metadata": {
        "id": "TK-M04ElCESC"
      }
    },
    {
      "cell_type": "markdown",
      "source": [
        "Vea el siguiente video [BBC - The Code - The Wisdom of the Crowd](https://www.youtube.com/watch?v=iOucwX7Z1HU)    ( 5 min)\n"
      ],
      "metadata": {
        "id": "biPYxgobCOSS"
      }
    },
    {
      "cell_type": "markdown",
      "source": [
        "Lea los siguientes artículos\n",
        "\n",
        "\n",
        "*   [The Wisdom of Crowds (Vox Populi) by Francis Galton](https://www.all-about-psychology.com/the-wisdom-of-crowds.html)  (10 min)\n",
        "*   [A Gentle Introduction to Ensemble Learning](https://machinelearningmastery.com/what-is-ensemble-learning/)  (10 min)\n",
        "\n"
      ],
      "metadata": {
        "id": "FBszBRyNCcjp"
      }
    },
    {
      "cell_type": "markdown",
      "source": [
        "\n",
        "\n",
        "---\n",
        "\n"
      ],
      "metadata": {
        "id": "x7SebtV2lpHQ"
      }
    },
    {
      "cell_type": "markdown",
      "source": [
        "##  2.  Zero2Hero   primera parte\n",
        "Se han lanzado los primeros fascículos coleccionables llamados \"from Zero to Hero\" que muy detalladamente, paso a paso enseñan todo lo necesario de R para entender los scripts oficiales de la asignatura.\n",
        "Están en el repositorio oficial de la asignatura, carpeta  **src/zero2hero**"
      ],
      "metadata": {
        "id": "NQcY8u2MDSLT"
      }
    },
    {
      "cell_type": "markdown",
      "source": [
        "\n",
        "\n",
        "---\n",
        "\n"
      ],
      "metadata": {
        "id": "GcO0OSiIEAGy"
      }
    },
    {
      "cell_type": "markdown",
      "source": [
        "## 3.  Grid Search"
      ],
      "metadata": {
        "id": "6MStcyn0EBdT"
      }
    },
    {
      "cell_type": "markdown",
      "source": [
        "Busque en internet el precido significado de los hiperparámetros de la librería **rpart**  que está implementando el algoritmo **CART**  Classification and Regression Trees  propuesto en el año 1984 por Leo Brieman:\n",
        "\n",
        "*   cp\n",
        "*   maxdepth\n",
        "*   minsplit\n",
        "*   minbucket\n",
        "\n",
        "Entienda que valores es razonable tome cada hiperparámetro,  en particular profundice en el hiperparámetro  **cp**  y la posibilidad que tome valores negativos.  Es válido consultar a su amigo de *capacidades especiales*  ChatGPT\n"
      ],
      "metadata": {
        "id": "gM8RKXDgEIY0"
      }
    },
    {
      "cell_type": "markdown",
      "source": [
        "En las siguientes celdas a un notebook incompleto, un esqueleto de codigo brindado a modo de facilitarle la tarea de codeo y permitir que su valiosa cognición se concentre temas conceptuales de Ciencia de Datos\n",
        "\n",
        "Modifiquelo agregando loops para que recorra TODOS los hiperparámetros de rpart  < cp, maxdepth, minsplit, minbucket >, y luego póngalo a correr. Recuerde cambiar por SU semilla\n",
        "Tenga muy presente la granularidad que eligirá para cada hiperparámetro."
      ],
      "metadata": {
        "id": "_k7eT3HIFy9y"
      }
    },
    {
      "cell_type": "markdown",
      "source": [
        "### Seteo del ambiente en Google Colab"
      ],
      "metadata": {
        "id": "kmLygy1TYPfg"
      }
    },
    {
      "cell_type": "markdown",
      "source": [
        "Esta parte se debe correr con el runtime en Python3\n",
        "<br>Ir al menu, Runtime -> Change Runtime Tipe -> Runtime type ->  **Python 3**"
      ],
      "metadata": {
        "id": "OikOm5K2YU3X"
      }
    },
    {
      "cell_type": "markdown",
      "source": [
        "Conectar la virtual machine donde esta corriendo Google Colab con el  Google Drive, para poder tener persistencia de archivos"
      ],
      "metadata": {
        "id": "4fmV5LyZdFyI"
      }
    },
    {
      "cell_type": "code",
      "source": [
        "# primero establecer el Runtime de Python 3\n",
        "from google.colab import drive\n",
        "drive.mount('/content/.drive')"
      ],
      "metadata": {
        "id": "ilEZ-bE2VybW",
        "outputId": "43bf39ee-6004-475c-acd3-559bf69407ec",
        "colab": {
          "base_uri": "https://localhost:8080/"
        }
      },
      "execution_count": 1,
      "outputs": [
        {
          "output_type": "stream",
          "name": "stdout",
          "text": [
            "Mounted at /content/.drive\n"
          ]
        }
      ]
    },
    {
      "cell_type": "markdown",
      "source": [
        "Para correr la siguiente celda es fundamental en Arranque en Frio haber copiado el archivo kaggle.json al Google Drive, en la carpeta indicada en el instructivo\n",
        "\n",
        "<br>los siguientes comando estan en shell script de Linux\n",
        "*   Crear las carpetas en el Google Drive\n",
        "*   \"instalar\" el archivo kaggle.json desde el Google Drive a la virtual machine para que pueda ser utilizado por la libreria  kaggle de Python\n",
        "*   Bajar el  **dataset_pequeno**  al  Google Drive  y tambien al disco local de la virtual machine que esta corriendo Google Colab\n",
        "\n"
      ],
      "metadata": {
        "id": "ilaKtqWldeWg"
      }
    },
    {
      "cell_type": "code",
      "source": [
        "%%shell\n",
        "\n",
        "mkdir -p \"/content/.drive/My Drive/labo1\"\n",
        "mkdir -p \"/content/buckets\"\n",
        "ln -s \"/content/.drive/My Drive/labo1\" /content/buckets/b1\n",
        "\n",
        "mkdir -p ~/.kaggle\n",
        "cp /content/buckets/b1/kaggle/kaggle.json  ~/.kaggle\n",
        "chmod 600 ~/.kaggle/kaggle.json\n",
        "\n",
        "\n",
        "mkdir -p /content/buckets/b1/exp\n",
        "mkdir -p /content/buckets/b1/datasets\n",
        "mkdir -p /content/datasets\n",
        "\n",
        "\n",
        "\n",
        "archivo_origen=\"https://storage.googleapis.com/open-courses/austral2025-af91/dataset_pequeno.csv\"\n",
        "archivo_destino=\"/content/datasets/dataset_pequeno.csv\"\n",
        "archivo_destino_bucket=\"/content/buckets/b1/datasets/dataset_pequeno.csv\"\n",
        "\n",
        "if ! test -f $archivo_destino_bucket; then\n",
        "  wget  $archivo_origen  -O $archivo_destino_bucket\n",
        "fi\n",
        "\n",
        "\n",
        "if ! test -f $archivo_destino; then\n",
        "  cp  $archivo_destino_bucket  $archivo_destino\n",
        "fi\n",
        "\n"
      ],
      "metadata": {
        "id": "W8dQFI5QYCFa",
        "outputId": "18bcf83a-2c31-4c95-c439-f82e5ee6bf25",
        "colab": {
          "base_uri": "https://localhost:8080/"
        }
      },
      "execution_count": 2,
      "outputs": [
        {
          "output_type": "execute_result",
          "data": {
            "text/plain": []
          },
          "metadata": {},
          "execution_count": 2
        }
      ]
    },
    {
      "cell_type": "markdown",
      "source": [
        "limpio el ambiente de R"
      ],
      "metadata": {
        "id": "SE94XRhWsxkX"
      }
    },
    {
      "cell_type": "code",
      "source": [
        "# limpio la memoria\n",
        "rm(list=ls(all.names=TRUE)) # remove all objects\n",
        "gc(full=TRUE, verbose=FALSE) # garbage collection"
      ],
      "metadata": {
        "id": "oZG_4br6szlT",
        "outputId": "6c963377-5466-4a7e-aed3-63eb73e3c330",
        "colab": {
          "base_uri": "https://localhost:8080/",
          "height": 129
        }
      },
      "execution_count": 3,
      "outputs": [
        {
          "output_type": "display_data",
          "data": {
            "text/html": [
              "<table class=\"dataframe\">\n",
              "<caption>A matrix: 2 × 6 of type dbl</caption>\n",
              "<thead>\n",
              "\t<tr><th></th><th scope=col>used</th><th scope=col>(Mb)</th><th scope=col>gc trigger</th><th scope=col>(Mb)</th><th scope=col>max used</th><th scope=col>(Mb)</th></tr>\n",
              "</thead>\n",
              "<tbody>\n",
              "\t<tr><th scope=row>Ncells</th><td> 667049</td><td>35.7</td><td>1454471</td><td>77.7</td><td>1326135</td><td>70.9</td></tr>\n",
              "\t<tr><th scope=row>Vcells</th><td>1241674</td><td> 9.5</td><td>8388608</td><td>64.0</td><td>1975127</td><td>15.1</td></tr>\n",
              "</tbody>\n",
              "</table>\n"
            ],
            "text/markdown": "\nA matrix: 2 × 6 of type dbl\n\n| <!--/--> | used | (Mb) | gc trigger | (Mb) | max used | (Mb) |\n|---|---|---|---|---|---|---|\n| Ncells |  667049 | 35.7 | 1454471 | 77.7 | 1326135 | 70.9 |\n| Vcells | 1241674 |  9.5 | 8388608 | 64.0 | 1975127 | 15.1 |\n\n",
            "text/latex": "A matrix: 2 × 6 of type dbl\n\\begin{tabular}{r|llllll}\n  & used & (Mb) & gc trigger & (Mb) & max used & (Mb)\\\\\n\\hline\n\tNcells &  667049 & 35.7 & 1454471 & 77.7 & 1326135 & 70.9\\\\\n\tVcells & 1241674 &  9.5 & 8388608 & 64.0 & 1975127 & 15.1\\\\\n\\end{tabular}\n",
            "text/plain": [
              "       used    (Mb) gc trigger (Mb) max used (Mb)\n",
              "Ncells  667049 35.7 1454471    77.7 1326135  70.9\n",
              "Vcells 1241674  9.5 8388608    64.0 1975127  15.1"
            ]
          },
          "metadata": {}
        }
      ]
    },
    {
      "cell_type": "code",
      "source": [
        "# cargo las librerias que necesito\n",
        "require(\"data.table\")\n",
        "require(\"rpart\")\n",
        "require(\"parallel\")\n",
        "if (!require(\"primes\")) install.packages(\"primes\")\n",
        "require(\"primes\")"
      ],
      "metadata": {
        "id": "JO-12d7YHkWy",
        "outputId": "a91b5387-4f70-498f-9f35-81b3b099e667",
        "colab": {
          "base_uri": "https://localhost:8080/"
        }
      },
      "execution_count": 4,
      "outputs": [
        {
          "output_type": "stream",
          "name": "stderr",
          "text": [
            "Loading required package: data.table\n",
            "\n",
            "Loading required package: rpart\n",
            "\n",
            "Loading required package: parallel\n",
            "\n",
            "Loading required package: primes\n",
            "\n",
            "Warning message in library(package, lib.loc = lib.loc, character.only = TRUE, logical.return = TRUE, :\n",
            "“there is no package called ‘primes’”\n",
            "Installing package into ‘/usr/local/lib/R/site-library’\n",
            "(as ‘lib’ is unspecified)\n",
            "\n",
            "Loading required package: primes\n",
            "\n"
          ]
        }
      ]
    },
    {
      "cell_type": "markdown",
      "source": [
        "Aqui debe poner SU semiila primigenia"
      ],
      "metadata": {
        "id": "0MclPEJ6Q8Bp"
      }
    },
    {
      "cell_type": "code",
      "source": [
        "PARAM <- list()\n",
        "# reemplazar por su primer semilla\n",
        "PARAM$semilla_primigenia <- 822611\n",
        "PARAM$qsemillas <- 1\n",
        "\n",
        "PARAM$training_pct <- 70L  # entre  1L y 99L\n",
        "\n",
        "# elegir SU dataset comentando/ descomentando\n",
        "PARAM$dataset_nom <- \"~/datasets/dataset_pequeno.csv\""
      ],
      "metadata": {
        "id": "Vt5fC6bWHu5r"
      },
      "execution_count": 5,
      "outputs": []
    },
    {
      "cell_type": "code",
      "source": [
        "# particionar agrega una columna llamada fold a un dataset\n",
        "#  que consiste en una particion estratificada segun agrupa\n",
        "# particionar( data=dataset, division=c(70,30), agrupa=clase_ternaria, seed=semilla)\n",
        "#   crea una particion 70, 30\n",
        "\n",
        "particionar <- function(data, division, agrupa = \"\", campo = \"fold\", start = 1, seed = NA) {\n",
        "  if (!is.na(seed)) set.seed(seed)\n",
        "\n",
        "  bloque <- unlist(mapply(function(x, y) {\n",
        "    rep(y, x)\n",
        "  }, division, seq(from = start, length.out = length(division))))\n",
        "\n",
        "  data[, (campo) := sample(rep(bloque, ceiling(.N / length(bloque))))[1:.N],\n",
        "    by = agrupa\n",
        "  ]\n",
        "}\n"
      ],
      "metadata": {
        "id": "Z1dchsrWH4MD"
      },
      "execution_count": 6,
      "outputs": []
    },
    {
      "cell_type": "code",
      "source": [
        "ArbolEstimarGanancia <- function(semilla, training_pct, param_basicos) {\n",
        "  # particiono estratificadamente el dataset\n",
        "  particionar(dataset,\n",
        "    division = c(training_pct, 100L -training_pct),\n",
        "    agrupa = \"clase_ternaria\",\n",
        "    seed = semilla # aqui se usa SU semilla\n",
        "  )\n",
        "\n",
        "  # genero el modelo\n",
        "  # predecir clase_ternaria a partir del resto\n",
        "  modelo <- rpart(\"clase_ternaria ~ .\",\n",
        "    data = dataset[fold == 1], # fold==1  es training,  el 70% de los datos\n",
        "    xval = 0,\n",
        "    control = param_basicos\n",
        "  ) # aqui van los parametros del arbol\n",
        "\n",
        "  # aplico el modelo a los datos de testing\n",
        "  prediccion <- predict(modelo, # el modelo que genere recien\n",
        "    dataset[fold == 2], # fold==2  es testing, el 30% de los datos\n",
        "    type = \"prob\"\n",
        "  ) # type= \"prob\"  es que devuelva la probabilidad\n",
        "\n",
        "  # prediccion es una matriz con TRES columnas,\n",
        "  #  llamadas \"BAJA+1\", \"BAJA+2\"  y \"CONTINUA\"\n",
        "  # cada columna es el vector de probabilidades\n",
        "\n",
        "\n",
        "  # calculo la ganancia en testing  qu es fold==2\n",
        "  ganancia_test <- dataset[\n",
        "    fold == 2,\n",
        "    sum(ifelse(prediccion[, \"BAJA+2\"] > 0.025,\n",
        "      ifelse(clase_ternaria == \"BAJA+2\", 117000, -3000),\n",
        "      0\n",
        "    ))\n",
        "  ]\n",
        "\n",
        "  # escalo la ganancia como si fuera todo el dataset\n",
        "  ganancia_test_normalizada <- ganancia_test / (( 100 - PARAM$training_pct ) / 100 )\n",
        "\n",
        "  return(\n",
        "    c( list(\"semilla\" = semilla),\n",
        "      param_basicos,\n",
        "      list( \"ganancia_test\" = ganancia_test_normalizada )\n",
        "     )\n",
        "  )\n",
        "}\n"
      ],
      "metadata": {
        "id": "xsHwS1CzIA70"
      },
      "execution_count": 7,
      "outputs": []
    },
    {
      "cell_type": "code",
      "source": [
        "ArbolesMontecarlo <- function(semillas, param_basicos) {\n",
        "\n",
        "  # la funcion mcmapply  llama a la funcion ArbolEstimarGanancia\n",
        "  #  tantas veces como valores tenga el vector  PARAM$semillas\n",
        "  salida <- mcmapply(ArbolEstimarGanancia,\n",
        "    semillas, # paso el vector de semillas\n",
        "    MoreArgs = list(PARAM$training_pct, param_basicos), # aqui paso el segundo parametro\n",
        "    SIMPLIFY = FALSE,\n",
        "    mc.cores = detectCores()\n",
        "  )\n",
        "\n",
        "  return(salida)\n",
        "}\n"
      ],
      "metadata": {
        "id": "BvBVOuhqIEjD"
      },
      "execution_count": 8,
      "outputs": []
    },
    {
      "cell_type": "code",
      "source": [
        "# carpeta de trabajo\n",
        "# por fabor cambiar numero de experimento si se cambia el loop principal\n",
        "setwd(\"/content/buckets/b1/exp\")\n",
        "experimento <- \"HT2902\"\n",
        "dir.create(experimento, showWarnings=FALSE)\n",
        "setwd( paste0(\"/content/buckets/b1/exp/\", experimento ))"
      ],
      "metadata": {
        "id": "L-DOGHOjIG7G"
      },
      "execution_count": 9,
      "outputs": []
    },
    {
      "cell_type": "code",
      "source": [
        "# lectura del dataset\n",
        "dataset <- fread(\"/content/datasets/dataset_pequeno.csv\")\n",
        "\n",
        "# trabajo solo con los datos con clase, es decir 202107\n",
        "dataset <- dataset[clase_ternaria != \"\"]"
      ],
      "metadata": {
        "id": "NM-mrLWcIPo6"
      },
      "execution_count": 10,
      "outputs": []
    },
    {
      "cell_type": "code",
      "source": [
        "\n",
        "# genero numeros primos\n",
        "primos <- generate_primes(min = 100000, max = 1000000)\n",
        "set.seed(PARAM$semilla_primigenia) # inicializo\n",
        "# me quedo con PARAM$qsemillas   semillas\n",
        "PARAM$semillas <- sample(primos, PARAM$qsemillas )\n"
      ],
      "metadata": {
        "id": "tSlY0EcgIWdi"
      },
      "execution_count": 11,
      "outputs": []
    },
    {
      "cell_type": "code",
      "source": [
        "# genero la data.table donde van los resultados detallados del Grid Search\n",
        "# un registro para cada combinacion de < semilla, parametros >\n",
        "\n",
        "if(file.exists(\"gridsearch_detalle.txt\")){\n",
        "  tb_grid_search_detalle <- fread(\"gridsearch_detalle.txt\")\n",
        "}else{\n",
        "  tb_grid_search_detalle <- data.table(\n",
        "    semilla = integer(),\n",
        "    cp = numeric(),\n",
        "    maxdepth = integer(),\n",
        "   minsplit = integer(),\n",
        "    minbucket = integer(),\n",
        "    ganancia_test = numeric()\n",
        "  )\n",
        "}\n",
        "\n",
        "nrow( tb_grid_search_detalle )"
      ],
      "metadata": {
        "id": "xxCAwIKyIaTl",
        "outputId": "98b71d07-d38d-4ad7-cb28-92922f9391fc",
        "colab": {
          "base_uri": "https://localhost:8080/",
          "height": 34
        }
      },
      "execution_count": 12,
      "outputs": [
        {
          "output_type": "display_data",
          "data": {
            "text/html": [
              "406"
            ],
            "text/markdown": "406",
            "text/latex": "406",
            "text/plain": [
              "[1] 406"
            ]
          },
          "metadata": {}
        }
      ]
    },
    {
      "cell_type": "markdown",
      "source": [
        "Esta es la parte del código que usted debe expandir a TODOS los hiperparámetros de rpart,\n",
        "<br>ya que actualmente apenas recorre  maxdepth y  minsplit  dejando fijos  cp=-0.5  y minbucket=5"
      ],
      "metadata": {
        "id": "eAuGBNL8IkOD"
      }
    },
    {
      "cell_type": "code",
      "source": [
        "# ------------------------------------------------------------\n",
        "# Grid search rpart: cp, maxdepth, minsplit, minbucket\n",
        "# Objetivo: maximizar ganancia | ~406 iteraciones\n",
        "# ------------------------------------------------------------\n",
        "\n",
        "library(data.table)\n",
        "\n",
        "# Grillas (ajustá si querés mover apenas el total)\n",
        "grid_cp        <- c(-1, -0.5)\n",
        "grid_maxdepth  <- c(4, 6, 8, 10, 12, 14, 16)                 # 7 valores\n",
        "grid_minsplit  <- c(600, 400, 200, 100, 50, 30, 20, 15)      # pensada para pares válidos\n",
        "grid_minbucket <- c(5, 10, 20, 50, 100)\n",
        "\n",
        "# Tabla acumulada\n",
        "if (!exists(\"tb_grid_search_detalle\")) {\n",
        "  tb_grid_search_detalle <- data.table()\n",
        "}\n",
        "\n",
        "# Tracker del mejor\n",
        "best_result <- NULL\n",
        "best_gain   <- -Inf\n",
        "\n",
        "iter <- 0\n",
        "\n",
        "for (vmax_depth in grid_maxdepth) {\n",
        "\n",
        "  bloque_resultados <- list()\n",
        "\n",
        "  for (vcp in grid_cp) {\n",
        "    for (vmin_split in grid_minsplit) {\n",
        "      for (vmin_bucket in grid_minbucket) {\n",
        "\n",
        "        # Sanidad: minbucket < minsplit\n",
        "        if (vmin_bucket >= vmin_split) next\n",
        "\n",
        "        # contador y reanudación\n",
        "        iter <- iter + 1\n",
        "        cat(iter, \" \")\n",
        "        flush.console()\n",
        "        if (iter * PARAM$qsemillas < nrow(tb_grid_search_detalle) + 1) next\n",
        "\n",
        "        # hiperparámetros\n",
        "        param_basicos <- list(\n",
        "          \"cp\"        = vcp,\n",
        "          \"maxdepth\"  = vmax_depth,\n",
        "          \"minsplit\"  = vmin_split,\n",
        "          \"minbucket\" = vmin_bucket\n",
        "        )\n",
        "\n",
        "        # entrenamiento/evaluación\n",
        "        ganancias <- ArbolesMontecarlo(PARAM$semillas, param_basicos)\n",
        "        dt_g <- rbindlist(ganancias, fill = TRUE)\n",
        "\n",
        "        # anotar hiperparámetros\n",
        "        dt_g[, `:=`(\n",
        "          cp        = vcp,\n",
        "          maxdepth  = vmax_depth,\n",
        "          minsplit  = vmin_split,\n",
        "          minbucket = vmin_bucket,\n",
        "          iter      = iter\n",
        "        )]\n",
        "\n",
        "        bloque_resultados[[length(bloque_resultados) + 1]] <- dt_g\n",
        "\n",
        "        # tracking del mejor (asumo columna 'ganancia' o 'gain')\n",
        "        col_gain <- if (\"ganancia\" %in% names(dt_g)) \"ganancia\" else if (\"gain\" %in% names(dt_g)) \"gain\" else NA_character_\n",
        "        if (!is.na(col_gain)) {\n",
        "          g_now <- mean(dt_g[[col_gain]], na.rm = TRUE)  # cambiá por sum/min/max si preferís\n",
        "          if (is.finite(g_now) && g_now > best_gain) {\n",
        "            best_gain <- g_now\n",
        "            best_result <- unique(dt_g[, .(cp, maxdepth, minsplit, minbucket)])[1]\n",
        "            message(sprintf(\"\\n>> NUEVO MEJOR: ganancia=%.6f | cp=%.3f, maxdepth=%d, minsplit=%d, minbucket=%d\",\n",
        "                            best_gain, vcp, vmax_depth, vmin_split, vmin_bucket))\n",
        "          }\n",
        "        }\n",
        "\n",
        "      } # minbucket\n",
        "    }   # minsplit\n",
        "  }     # cp\n",
        "\n",
        "  # acumular y grabar al cerrar cada maxdepth\n",
        "  if (length(bloque_resultados) > 0) {\n",
        "    tb_grid_search_detalle <- rbindlist(\n",
        "      list(tb_grid_search_detalle, rbindlist(bloque_resultados, fill = TRUE)),\n",
        "      fill = TRUE\n",
        "    )\n",
        "  }\n",
        "\n",
        "  fwrite(tb_grid_search_detalle, file = \"gridsearch_detalle.txt\", sep = \"\\t\")\n",
        "}\n",
        "\n",
        "# resumen best\n",
        "if (!is.null(best_result)) {\n",
        "  cat(\"\\n=========================================\\n\")\n",
        "  cat(\"MEJOR CONFIGURACIÓN (según ganancia media Montecarlo):\\n\")\n",
        "  print(best_result)\n",
        "  cat(sprintf(\"Ganancia media: %.6f\\n\", best_gain))\n",
        "  cat(\"=========================================\\n\")\n",
        "} else {\n",
        "  warning(\"No se pudo determinar la mejor configuración (revisar nombre de la columna de ganancia).\")\n",
        "}\n"
      ],
      "metadata": {
        "id": "ipLHm3STIfmb",
        "outputId": "157b5f75-7380-4578-b557-855497e8d53b",
        "colab": {
          "base_uri": "https://localhost:8080/"
        }
      },
      "execution_count": 13,
      "outputs": [
        {
          "output_type": "stream",
          "name": "stdout",
          "text": [
            "1  2  3  4  5  6  7  8  9  10  11  12  13  14  15  16  17  18  19  20  21  22  23  24  25  26  27  28  29  30  31  32  33  34  35  36  37  38  39  40  41  42  43  44  45  46  47  48  49  50  51  52  53  54  55  56  57  58  59  60  61  62  63  64  65  66  67  68  69  70  71  72  73  74  75  76  77  78  79  80  81  82  83  84  85  86  87  88  89  90  91  92  93  94  95  96  97  98  99  100  101  102  103  104  105  106  107  108  109  110  111  112  113  114  115  116  117  118  119  120  121  122  123  124  125  126  127  128  129  130  131  132  133  134  135  136  137  138  139  140  141  142  143  144  145  146  147  148  149  150  151  152  153  154  155  156  157  158  159  160  161  162  163  164  165  166  167  168  169  170  171  172  173  174  175  176  177  178  179  180  181  182  183  184  185  186  187  188  189  190  191  192  193  194  195  196  197  198  199  200  201  202  203  204  205  206  207  208  209  210  211  212  213  214  215  216  217  218  219  220  221  222  223  224  225  226  227  228  229  230  231  232  233  234  235  236  237  238  239  240  241  242  243  244  245  246  247  248  249  250  251  252  253  254  255  256  257  258  259  260  261  262  263  264  265  266  267  268  269  270  271  272  273  274  275  276  277  278  279  280  281  282  283  284  285  286  287  288  289  290  291  292  293  294  295  296  297  298  299  300  301  302  303  304  305  306  307  308  309  310  311  312  313  314  315  316  317  318  319  320  321  322  323  324  325  326  327  328  329  330  331  332  333  334  335  336  337  338  339  340  341  342  343  344  345  346  347  348  349  350  351  352  353  354  355  356  357  358  359  360  361  362  363  364  365  366  367  368  369  370  371  372  373  374  375  376  377  378  379  380  381  382  383  384  385  386  387  388  389  390  391  392  393  394  395  396  397  398  399  400  401  402  403  404  405  406  "
          ]
        },
        {
          "output_type": "stream",
          "name": "stderr",
          "text": [
            "Warning message:\n",
            "“No se pudo determinar la mejor configuración (revisar nombre de la columna de ganancia).”\n"
          ]
        }
      ]
    },
    {
      "cell_type": "code",
      "source": [
        "fwrite( tb_grid_search_detalle,\n",
        "   file = \"gridsearch_detalle.txt\",\n",
        "   sep = \"\\t\"\n",
        ")"
      ],
      "metadata": {
        "id": "WZaSqYBxiDFu"
      },
      "execution_count": 14,
      "outputs": []
    },
    {
      "cell_type": "code",
      "source": [
        "# cantidad de registros de la tabla\n",
        "nrow(tb_grid_search_detalle)"
      ],
      "metadata": {
        "id": "STp0duM-RYVJ",
        "outputId": "6a1a6030-908c-4c25-e32d-d117c159ba8b",
        "colab": {
          "base_uri": "https://localhost:8080/",
          "height": 34
        }
      },
      "execution_count": 15,
      "outputs": [
        {
          "output_type": "display_data",
          "data": {
            "text/html": [
              "406"
            ],
            "text/markdown": "406",
            "text/latex": "406",
            "text/plain": [
              "[1] 406"
            ]
          },
          "metadata": {}
        }
      ]
    },
    {
      "cell_type": "code",
      "source": [
        "# muestro la tabla\n",
        "tb_grid_search_detalle"
      ],
      "metadata": {
        "id": "k7fhk_H0iNez",
        "outputId": "1010efc5-095f-48b8-bb39-8c32753856dc",
        "colab": {
          "base_uri": "https://localhost:8080/",
          "height": 1000
        }
      },
      "execution_count": 16,
      "outputs": [
        {
          "output_type": "display_data",
          "data": {
            "text/html": [
              "<table class=\"dataframe\">\n",
              "<caption>A data.table: 406 × 7</caption>\n",
              "<thead>\n",
              "\t<tr><th scope=col>semilla</th><th scope=col>cp</th><th scope=col>maxdepth</th><th scope=col>minsplit</th><th scope=col>minbucket</th><th scope=col>ganancia_test</th><th scope=col>iter</th></tr>\n",
              "\t<tr><th scope=col>&lt;int&gt;</th><th scope=col>&lt;dbl&gt;</th><th scope=col>&lt;int&gt;</th><th scope=col>&lt;int&gt;</th><th scope=col>&lt;int&gt;</th><th scope=col>&lt;dbl&gt;</th><th scope=col>&lt;int&gt;</th></tr>\n",
              "</thead>\n",
              "<tbody>\n",
              "\t<tr><td>238883</td><td>-1.0</td><td>4</td><td>600</td><td>  5</td><td>44550000</td><td> 1</td></tr>\n",
              "\t<tr><td>238883</td><td>-1.0</td><td>4</td><td>600</td><td> 10</td><td>39880000</td><td> 2</td></tr>\n",
              "\t<tr><td>238883</td><td>-1.0</td><td>4</td><td>600</td><td> 20</td><td>39490000</td><td> 3</td></tr>\n",
              "\t<tr><td>238883</td><td>-1.0</td><td>4</td><td>600</td><td> 50</td><td>39480000</td><td> 4</td></tr>\n",
              "\t<tr><td>238883</td><td>-1.0</td><td>4</td><td>600</td><td>100</td><td>38600000</td><td> 5</td></tr>\n",
              "\t<tr><td>238883</td><td>-1.0</td><td>4</td><td>400</td><td>  5</td><td>44550000</td><td> 6</td></tr>\n",
              "\t<tr><td>238883</td><td>-1.0</td><td>4</td><td>400</td><td> 10</td><td>39880000</td><td> 7</td></tr>\n",
              "\t<tr><td>238883</td><td>-1.0</td><td>4</td><td>400</td><td> 20</td><td>39490000</td><td> 8</td></tr>\n",
              "\t<tr><td>238883</td><td>-1.0</td><td>4</td><td>400</td><td> 50</td><td>39480000</td><td> 9</td></tr>\n",
              "\t<tr><td>238883</td><td>-1.0</td><td>4</td><td>400</td><td>100</td><td>38600000</td><td>10</td></tr>\n",
              "\t<tr><td>238883</td><td>-1.0</td><td>4</td><td>200</td><td>  5</td><td>44550000</td><td>11</td></tr>\n",
              "\t<tr><td>238883</td><td>-1.0</td><td>4</td><td>200</td><td> 10</td><td>39880000</td><td>12</td></tr>\n",
              "\t<tr><td>238883</td><td>-1.0</td><td>4</td><td>200</td><td> 20</td><td>39490000</td><td>13</td></tr>\n",
              "\t<tr><td>238883</td><td>-1.0</td><td>4</td><td>200</td><td> 50</td><td>39480000</td><td>14</td></tr>\n",
              "\t<tr><td>238883</td><td>-1.0</td><td>4</td><td>200</td><td>100</td><td>38600000</td><td>15</td></tr>\n",
              "\t<tr><td>238883</td><td>-1.0</td><td>4</td><td>100</td><td>  5</td><td>44550000</td><td>16</td></tr>\n",
              "\t<tr><td>238883</td><td>-1.0</td><td>4</td><td>100</td><td> 10</td><td>39880000</td><td>17</td></tr>\n",
              "\t<tr><td>238883</td><td>-1.0</td><td>4</td><td>100</td><td> 20</td><td>39490000</td><td>18</td></tr>\n",
              "\t<tr><td>238883</td><td>-1.0</td><td>4</td><td>100</td><td> 50</td><td>39480000</td><td>19</td></tr>\n",
              "\t<tr><td>238883</td><td>-1.0</td><td>4</td><td> 50</td><td>  5</td><td>44250000</td><td>20</td></tr>\n",
              "\t<tr><td>238883</td><td>-1.0</td><td>4</td><td> 50</td><td> 10</td><td>39430000</td><td>21</td></tr>\n",
              "\t<tr><td>238883</td><td>-1.0</td><td>4</td><td> 50</td><td> 20</td><td>39340000</td><td>22</td></tr>\n",
              "\t<tr><td>238883</td><td>-1.0</td><td>4</td><td> 30</td><td>  5</td><td>44250000</td><td>23</td></tr>\n",
              "\t<tr><td>238883</td><td>-1.0</td><td>4</td><td> 30</td><td> 10</td><td>39430000</td><td>24</td></tr>\n",
              "\t<tr><td>238883</td><td>-1.0</td><td>4</td><td> 30</td><td> 20</td><td>39340000</td><td>25</td></tr>\n",
              "\t<tr><td>238883</td><td>-1.0</td><td>4</td><td> 20</td><td>  5</td><td>44250000</td><td>26</td></tr>\n",
              "\t<tr><td>238883</td><td>-1.0</td><td>4</td><td> 20</td><td> 10</td><td>39430000</td><td>27</td></tr>\n",
              "\t<tr><td>238883</td><td>-1.0</td><td>4</td><td> 15</td><td>  5</td><td>44250000</td><td>28</td></tr>\n",
              "\t<tr><td>238883</td><td>-1.0</td><td>4</td><td> 15</td><td> 10</td><td>39430000</td><td>29</td></tr>\n",
              "\t<tr><td>238883</td><td>-0.5</td><td>4</td><td>600</td><td>  5</td><td>44550000</td><td>30</td></tr>\n",
              "\t<tr><td>⋮</td><td>⋮</td><td>⋮</td><td>⋮</td><td>⋮</td><td>⋮</td><td>⋮</td></tr>\n",
              "\t<tr><td>238883</td><td>-1.0</td><td>16</td><td> 15</td><td> 10</td><td>22980000</td><td>377</td></tr>\n",
              "\t<tr><td>238883</td><td>-0.5</td><td>16</td><td>600</td><td>  5</td><td>40360000</td><td>378</td></tr>\n",
              "\t<tr><td>238883</td><td>-0.5</td><td>16</td><td>600</td><td> 10</td><td>40260000</td><td>379</td></tr>\n",
              "\t<tr><td>238883</td><td>-0.5</td><td>16</td><td>600</td><td> 20</td><td>37030000</td><td>380</td></tr>\n",
              "\t<tr><td>238883</td><td>-0.5</td><td>16</td><td>600</td><td> 50</td><td>37450000</td><td>381</td></tr>\n",
              "\t<tr><td>238883</td><td>-0.5</td><td>16</td><td>600</td><td>100</td><td>37150000</td><td>382</td></tr>\n",
              "\t<tr><td>238883</td><td>-0.5</td><td>16</td><td>400</td><td>  5</td><td>40750000</td><td>383</td></tr>\n",
              "\t<tr><td>238883</td><td>-0.5</td><td>16</td><td>400</td><td> 10</td><td>38920000</td><td>384</td></tr>\n",
              "\t<tr><td>238883</td><td>-0.5</td><td>16</td><td>400</td><td> 20</td><td>35670000</td><td>385</td></tr>\n",
              "\t<tr><td>238883</td><td>-0.5</td><td>16</td><td>400</td><td> 50</td><td>33930000</td><td>386</td></tr>\n",
              "\t<tr><td>238883</td><td>-0.5</td><td>16</td><td>400</td><td>100</td><td>34690000</td><td>387</td></tr>\n",
              "\t<tr><td>238883</td><td>-0.5</td><td>16</td><td>200</td><td>  5</td><td>39130000</td><td>388</td></tr>\n",
              "\t<tr><td>238883</td><td>-0.5</td><td>16</td><td>200</td><td> 10</td><td>39370000</td><td>389</td></tr>\n",
              "\t<tr><td>238883</td><td>-0.5</td><td>16</td><td>200</td><td> 20</td><td>33710000</td><td>390</td></tr>\n",
              "\t<tr><td>238883</td><td>-0.5</td><td>16</td><td>200</td><td> 50</td><td>33380000</td><td>391</td></tr>\n",
              "\t<tr><td>238883</td><td>-0.5</td><td>16</td><td>200</td><td>100</td><td>31620000</td><td>392</td></tr>\n",
              "\t<tr><td>238883</td><td>-0.5</td><td>16</td><td>100</td><td>  5</td><td>35640000</td><td>393</td></tr>\n",
              "\t<tr><td>238883</td><td>-0.5</td><td>16</td><td>100</td><td> 10</td><td>36100000</td><td>394</td></tr>\n",
              "\t<tr><td>238883</td><td>-0.5</td><td>16</td><td>100</td><td> 20</td><td>33380000</td><td>395</td></tr>\n",
              "\t<tr><td>238883</td><td>-0.5</td><td>16</td><td>100</td><td> 50</td><td>33820000</td><td>396</td></tr>\n",
              "\t<tr><td>238883</td><td>-0.5</td><td>16</td><td> 50</td><td>  5</td><td>30620000</td><td>397</td></tr>\n",
              "\t<tr><td>238883</td><td>-0.5</td><td>16</td><td> 50</td><td> 10</td><td>29340000</td><td>398</td></tr>\n",
              "\t<tr><td>238883</td><td>-0.5</td><td>16</td><td> 50</td><td> 20</td><td>26200000</td><td>399</td></tr>\n",
              "\t<tr><td>238883</td><td>-0.5</td><td>16</td><td> 30</td><td>  5</td><td>30890000</td><td>400</td></tr>\n",
              "\t<tr><td>238883</td><td>-0.5</td><td>16</td><td> 30</td><td> 10</td><td>24870000</td><td>401</td></tr>\n",
              "\t<tr><td>238883</td><td>-0.5</td><td>16</td><td> 30</td><td> 20</td><td>25760000</td><td>402</td></tr>\n",
              "\t<tr><td>238883</td><td>-0.5</td><td>16</td><td> 20</td><td>  5</td><td>25860000</td><td>403</td></tr>\n",
              "\t<tr><td>238883</td><td>-0.5</td><td>16</td><td> 20</td><td> 10</td><td>22980000</td><td>404</td></tr>\n",
              "\t<tr><td>238883</td><td>-0.5</td><td>16</td><td> 15</td><td>  5</td><td>23060000</td><td>405</td></tr>\n",
              "\t<tr><td>238883</td><td>-0.5</td><td>16</td><td> 15</td><td> 10</td><td>22980000</td><td>406</td></tr>\n",
              "</tbody>\n",
              "</table>\n"
            ],
            "text/markdown": "\nA data.table: 406 × 7\n\n| semilla &lt;int&gt; | cp &lt;dbl&gt; | maxdepth &lt;int&gt; | minsplit &lt;int&gt; | minbucket &lt;int&gt; | ganancia_test &lt;dbl&gt; | iter &lt;int&gt; |\n|---|---|---|---|---|---|---|\n| 238883 | -1.0 | 4 | 600 |   5 | 44550000 |  1 |\n| 238883 | -1.0 | 4 | 600 |  10 | 39880000 |  2 |\n| 238883 | -1.0 | 4 | 600 |  20 | 39490000 |  3 |\n| 238883 | -1.0 | 4 | 600 |  50 | 39480000 |  4 |\n| 238883 | -1.0 | 4 | 600 | 100 | 38600000 |  5 |\n| 238883 | -1.0 | 4 | 400 |   5 | 44550000 |  6 |\n| 238883 | -1.0 | 4 | 400 |  10 | 39880000 |  7 |\n| 238883 | -1.0 | 4 | 400 |  20 | 39490000 |  8 |\n| 238883 | -1.0 | 4 | 400 |  50 | 39480000 |  9 |\n| 238883 | -1.0 | 4 | 400 | 100 | 38600000 | 10 |\n| 238883 | -1.0 | 4 | 200 |   5 | 44550000 | 11 |\n| 238883 | -1.0 | 4 | 200 |  10 | 39880000 | 12 |\n| 238883 | -1.0 | 4 | 200 |  20 | 39490000 | 13 |\n| 238883 | -1.0 | 4 | 200 |  50 | 39480000 | 14 |\n| 238883 | -1.0 | 4 | 200 | 100 | 38600000 | 15 |\n| 238883 | -1.0 | 4 | 100 |   5 | 44550000 | 16 |\n| 238883 | -1.0 | 4 | 100 |  10 | 39880000 | 17 |\n| 238883 | -1.0 | 4 | 100 |  20 | 39490000 | 18 |\n| 238883 | -1.0 | 4 | 100 |  50 | 39480000 | 19 |\n| 238883 | -1.0 | 4 |  50 |   5 | 44250000 | 20 |\n| 238883 | -1.0 | 4 |  50 |  10 | 39430000 | 21 |\n| 238883 | -1.0 | 4 |  50 |  20 | 39340000 | 22 |\n| 238883 | -1.0 | 4 |  30 |   5 | 44250000 | 23 |\n| 238883 | -1.0 | 4 |  30 |  10 | 39430000 | 24 |\n| 238883 | -1.0 | 4 |  30 |  20 | 39340000 | 25 |\n| 238883 | -1.0 | 4 |  20 |   5 | 44250000 | 26 |\n| 238883 | -1.0 | 4 |  20 |  10 | 39430000 | 27 |\n| 238883 | -1.0 | 4 |  15 |   5 | 44250000 | 28 |\n| 238883 | -1.0 | 4 |  15 |  10 | 39430000 | 29 |\n| 238883 | -0.5 | 4 | 600 |   5 | 44550000 | 30 |\n| ⋮ | ⋮ | ⋮ | ⋮ | ⋮ | ⋮ | ⋮ |\n| 238883 | -1.0 | 16 |  15 |  10 | 22980000 | 377 |\n| 238883 | -0.5 | 16 | 600 |   5 | 40360000 | 378 |\n| 238883 | -0.5 | 16 | 600 |  10 | 40260000 | 379 |\n| 238883 | -0.5 | 16 | 600 |  20 | 37030000 | 380 |\n| 238883 | -0.5 | 16 | 600 |  50 | 37450000 | 381 |\n| 238883 | -0.5 | 16 | 600 | 100 | 37150000 | 382 |\n| 238883 | -0.5 | 16 | 400 |   5 | 40750000 | 383 |\n| 238883 | -0.5 | 16 | 400 |  10 | 38920000 | 384 |\n| 238883 | -0.5 | 16 | 400 |  20 | 35670000 | 385 |\n| 238883 | -0.5 | 16 | 400 |  50 | 33930000 | 386 |\n| 238883 | -0.5 | 16 | 400 | 100 | 34690000 | 387 |\n| 238883 | -0.5 | 16 | 200 |   5 | 39130000 | 388 |\n| 238883 | -0.5 | 16 | 200 |  10 | 39370000 | 389 |\n| 238883 | -0.5 | 16 | 200 |  20 | 33710000 | 390 |\n| 238883 | -0.5 | 16 | 200 |  50 | 33380000 | 391 |\n| 238883 | -0.5 | 16 | 200 | 100 | 31620000 | 392 |\n| 238883 | -0.5 | 16 | 100 |   5 | 35640000 | 393 |\n| 238883 | -0.5 | 16 | 100 |  10 | 36100000 | 394 |\n| 238883 | -0.5 | 16 | 100 |  20 | 33380000 | 395 |\n| 238883 | -0.5 | 16 | 100 |  50 | 33820000 | 396 |\n| 238883 | -0.5 | 16 |  50 |   5 | 30620000 | 397 |\n| 238883 | -0.5 | 16 |  50 |  10 | 29340000 | 398 |\n| 238883 | -0.5 | 16 |  50 |  20 | 26200000 | 399 |\n| 238883 | -0.5 | 16 |  30 |   5 | 30890000 | 400 |\n| 238883 | -0.5 | 16 |  30 |  10 | 24870000 | 401 |\n| 238883 | -0.5 | 16 |  30 |  20 | 25760000 | 402 |\n| 238883 | -0.5 | 16 |  20 |   5 | 25860000 | 403 |\n| 238883 | -0.5 | 16 |  20 |  10 | 22980000 | 404 |\n| 238883 | -0.5 | 16 |  15 |   5 | 23060000 | 405 |\n| 238883 | -0.5 | 16 |  15 |  10 | 22980000 | 406 |\n\n",
            "text/latex": "A data.table: 406 × 7\n\\begin{tabular}{lllllll}\n semilla & cp & maxdepth & minsplit & minbucket & ganancia\\_test & iter\\\\\n <int> & <dbl> & <int> & <int> & <int> & <dbl> & <int>\\\\\n\\hline\n\t 238883 & -1.0 & 4 & 600 &   5 & 44550000 &  1\\\\\n\t 238883 & -1.0 & 4 & 600 &  10 & 39880000 &  2\\\\\n\t 238883 & -1.0 & 4 & 600 &  20 & 39490000 &  3\\\\\n\t 238883 & -1.0 & 4 & 600 &  50 & 39480000 &  4\\\\\n\t 238883 & -1.0 & 4 & 600 & 100 & 38600000 &  5\\\\\n\t 238883 & -1.0 & 4 & 400 &   5 & 44550000 &  6\\\\\n\t 238883 & -1.0 & 4 & 400 &  10 & 39880000 &  7\\\\\n\t 238883 & -1.0 & 4 & 400 &  20 & 39490000 &  8\\\\\n\t 238883 & -1.0 & 4 & 400 &  50 & 39480000 &  9\\\\\n\t 238883 & -1.0 & 4 & 400 & 100 & 38600000 & 10\\\\\n\t 238883 & -1.0 & 4 & 200 &   5 & 44550000 & 11\\\\\n\t 238883 & -1.0 & 4 & 200 &  10 & 39880000 & 12\\\\\n\t 238883 & -1.0 & 4 & 200 &  20 & 39490000 & 13\\\\\n\t 238883 & -1.0 & 4 & 200 &  50 & 39480000 & 14\\\\\n\t 238883 & -1.0 & 4 & 200 & 100 & 38600000 & 15\\\\\n\t 238883 & -1.0 & 4 & 100 &   5 & 44550000 & 16\\\\\n\t 238883 & -1.0 & 4 & 100 &  10 & 39880000 & 17\\\\\n\t 238883 & -1.0 & 4 & 100 &  20 & 39490000 & 18\\\\\n\t 238883 & -1.0 & 4 & 100 &  50 & 39480000 & 19\\\\\n\t 238883 & -1.0 & 4 &  50 &   5 & 44250000 & 20\\\\\n\t 238883 & -1.0 & 4 &  50 &  10 & 39430000 & 21\\\\\n\t 238883 & -1.0 & 4 &  50 &  20 & 39340000 & 22\\\\\n\t 238883 & -1.0 & 4 &  30 &   5 & 44250000 & 23\\\\\n\t 238883 & -1.0 & 4 &  30 &  10 & 39430000 & 24\\\\\n\t 238883 & -1.0 & 4 &  30 &  20 & 39340000 & 25\\\\\n\t 238883 & -1.0 & 4 &  20 &   5 & 44250000 & 26\\\\\n\t 238883 & -1.0 & 4 &  20 &  10 & 39430000 & 27\\\\\n\t 238883 & -1.0 & 4 &  15 &   5 & 44250000 & 28\\\\\n\t 238883 & -1.0 & 4 &  15 &  10 & 39430000 & 29\\\\\n\t 238883 & -0.5 & 4 & 600 &   5 & 44550000 & 30\\\\\n\t ⋮ & ⋮ & ⋮ & ⋮ & ⋮ & ⋮ & ⋮\\\\\n\t 238883 & -1.0 & 16 &  15 &  10 & 22980000 & 377\\\\\n\t 238883 & -0.5 & 16 & 600 &   5 & 40360000 & 378\\\\\n\t 238883 & -0.5 & 16 & 600 &  10 & 40260000 & 379\\\\\n\t 238883 & -0.5 & 16 & 600 &  20 & 37030000 & 380\\\\\n\t 238883 & -0.5 & 16 & 600 &  50 & 37450000 & 381\\\\\n\t 238883 & -0.5 & 16 & 600 & 100 & 37150000 & 382\\\\\n\t 238883 & -0.5 & 16 & 400 &   5 & 40750000 & 383\\\\\n\t 238883 & -0.5 & 16 & 400 &  10 & 38920000 & 384\\\\\n\t 238883 & -0.5 & 16 & 400 &  20 & 35670000 & 385\\\\\n\t 238883 & -0.5 & 16 & 400 &  50 & 33930000 & 386\\\\\n\t 238883 & -0.5 & 16 & 400 & 100 & 34690000 & 387\\\\\n\t 238883 & -0.5 & 16 & 200 &   5 & 39130000 & 388\\\\\n\t 238883 & -0.5 & 16 & 200 &  10 & 39370000 & 389\\\\\n\t 238883 & -0.5 & 16 & 200 &  20 & 33710000 & 390\\\\\n\t 238883 & -0.5 & 16 & 200 &  50 & 33380000 & 391\\\\\n\t 238883 & -0.5 & 16 & 200 & 100 & 31620000 & 392\\\\\n\t 238883 & -0.5 & 16 & 100 &   5 & 35640000 & 393\\\\\n\t 238883 & -0.5 & 16 & 100 &  10 & 36100000 & 394\\\\\n\t 238883 & -0.5 & 16 & 100 &  20 & 33380000 & 395\\\\\n\t 238883 & -0.5 & 16 & 100 &  50 & 33820000 & 396\\\\\n\t 238883 & -0.5 & 16 &  50 &   5 & 30620000 & 397\\\\\n\t 238883 & -0.5 & 16 &  50 &  10 & 29340000 & 398\\\\\n\t 238883 & -0.5 & 16 &  50 &  20 & 26200000 & 399\\\\\n\t 238883 & -0.5 & 16 &  30 &   5 & 30890000 & 400\\\\\n\t 238883 & -0.5 & 16 &  30 &  10 & 24870000 & 401\\\\\n\t 238883 & -0.5 & 16 &  30 &  20 & 25760000 & 402\\\\\n\t 238883 & -0.5 & 16 &  20 &   5 & 25860000 & 403\\\\\n\t 238883 & -0.5 & 16 &  20 &  10 & 22980000 & 404\\\\\n\t 238883 & -0.5 & 16 &  15 &   5 & 23060000 & 405\\\\\n\t 238883 & -0.5 & 16 &  15 &  10 & 22980000 & 406\\\\\n\\end{tabular}\n",
            "text/plain": [
              "    semilla cp   maxdepth minsplit minbucket ganancia_test iter\n",
              "1   238883  -1.0 4        600        5       44550000       1  \n",
              "2   238883  -1.0 4        600       10       39880000       2  \n",
              "3   238883  -1.0 4        600       20       39490000       3  \n",
              "4   238883  -1.0 4        600       50       39480000       4  \n",
              "5   238883  -1.0 4        600      100       38600000       5  \n",
              "6   238883  -1.0 4        400        5       44550000       6  \n",
              "7   238883  -1.0 4        400       10       39880000       7  \n",
              "8   238883  -1.0 4        400       20       39490000       8  \n",
              "9   238883  -1.0 4        400       50       39480000       9  \n",
              "10  238883  -1.0 4        400      100       38600000      10  \n",
              "11  238883  -1.0 4        200        5       44550000      11  \n",
              "12  238883  -1.0 4        200       10       39880000      12  \n",
              "13  238883  -1.0 4        200       20       39490000      13  \n",
              "14  238883  -1.0 4        200       50       39480000      14  \n",
              "15  238883  -1.0 4        200      100       38600000      15  \n",
              "16  238883  -1.0 4        100        5       44550000      16  \n",
              "17  238883  -1.0 4        100       10       39880000      17  \n",
              "18  238883  -1.0 4        100       20       39490000      18  \n",
              "19  238883  -1.0 4        100       50       39480000      19  \n",
              "20  238883  -1.0 4         50        5       44250000      20  \n",
              "21  238883  -1.0 4         50       10       39430000      21  \n",
              "22  238883  -1.0 4         50       20       39340000      22  \n",
              "23  238883  -1.0 4         30        5       44250000      23  \n",
              "24  238883  -1.0 4         30       10       39430000      24  \n",
              "25  238883  -1.0 4         30       20       39340000      25  \n",
              "26  238883  -1.0 4         20        5       44250000      26  \n",
              "27  238883  -1.0 4         20       10       39430000      27  \n",
              "28  238883  -1.0 4         15        5       44250000      28  \n",
              "29  238883  -1.0 4         15       10       39430000      29  \n",
              "30  238883  -0.5 4        600        5       44550000      30  \n",
              "⋮   ⋮       ⋮    ⋮        ⋮        ⋮         ⋮             ⋮   \n",
              "377 238883  -1.0 16        15       10       22980000      377 \n",
              "378 238883  -0.5 16       600        5       40360000      378 \n",
              "379 238883  -0.5 16       600       10       40260000      379 \n",
              "380 238883  -0.5 16       600       20       37030000      380 \n",
              "381 238883  -0.5 16       600       50       37450000      381 \n",
              "382 238883  -0.5 16       600      100       37150000      382 \n",
              "383 238883  -0.5 16       400        5       40750000      383 \n",
              "384 238883  -0.5 16       400       10       38920000      384 \n",
              "385 238883  -0.5 16       400       20       35670000      385 \n",
              "386 238883  -0.5 16       400       50       33930000      386 \n",
              "387 238883  -0.5 16       400      100       34690000      387 \n",
              "388 238883  -0.5 16       200        5       39130000      388 \n",
              "389 238883  -0.5 16       200       10       39370000      389 \n",
              "390 238883  -0.5 16       200       20       33710000      390 \n",
              "391 238883  -0.5 16       200       50       33380000      391 \n",
              "392 238883  -0.5 16       200      100       31620000      392 \n",
              "393 238883  -0.5 16       100        5       35640000      393 \n",
              "394 238883  -0.5 16       100       10       36100000      394 \n",
              "395 238883  -0.5 16       100       20       33380000      395 \n",
              "396 238883  -0.5 16       100       50       33820000      396 \n",
              "397 238883  -0.5 16        50        5       30620000      397 \n",
              "398 238883  -0.5 16        50       10       29340000      398 \n",
              "399 238883  -0.5 16        50       20       26200000      399 \n",
              "400 238883  -0.5 16        30        5       30890000      400 \n",
              "401 238883  -0.5 16        30       10       24870000      401 \n",
              "402 238883  -0.5 16        30       20       25760000      402 \n",
              "403 238883  -0.5 16        20        5       25860000      403 \n",
              "404 238883  -0.5 16        20       10       22980000      404 \n",
              "405 238883  -0.5 16        15        5       23060000      405 \n",
              "406 238883  -0.5 16        15       10       22980000      406 "
            ]
          },
          "metadata": {}
        }
      ]
    },
    {
      "cell_type": "code",
      "source": [
        "# genero y grabo el resumen\n",
        "tb_grid_search <- tb_grid_search_detalle[,\n",
        "  list( \"ganancia_mean\" = mean(ganancia_test),\n",
        "    \"qty\" = .N ),\n",
        "  list( cp, maxdepth, minsplit, minbucket )\n",
        "]\n"
      ],
      "metadata": {
        "id": "DjCxtx8bIsgl"
      },
      "execution_count": 17,
      "outputs": []
    },
    {
      "cell_type": "code",
      "source": [
        "# ordeno descendente por ganancia\n",
        "setorder( tb_grid_search, -ganancia_mean )\n"
      ],
      "metadata": {
        "id": "LU29UhL1Ivg5"
      },
      "execution_count": 18,
      "outputs": []
    },
    {
      "cell_type": "code",
      "source": [
        "# veo los 10 mejores hiperparámetros\n",
        "tb_grid_search[1:10]"
      ],
      "metadata": {
        "id": "g-EjGY7aIyWL",
        "outputId": "1fc02989-b241-43ab-a103-7b4bf9a565a2",
        "colab": {
          "base_uri": "https://localhost:8080/",
          "height": 411
        }
      },
      "execution_count": 19,
      "outputs": [
        {
          "output_type": "display_data",
          "data": {
            "text/html": [
              "<table class=\"dataframe\">\n",
              "<caption>A data.table: 10 × 6</caption>\n",
              "<thead>\n",
              "\t<tr><th scope=col>cp</th><th scope=col>maxdepth</th><th scope=col>minsplit</th><th scope=col>minbucket</th><th scope=col>ganancia_mean</th><th scope=col>qty</th></tr>\n",
              "\t<tr><th scope=col>&lt;dbl&gt;</th><th scope=col>&lt;int&gt;</th><th scope=col>&lt;int&gt;</th><th scope=col>&lt;int&gt;</th><th scope=col>&lt;dbl&gt;</th><th scope=col>&lt;int&gt;</th></tr>\n",
              "</thead>\n",
              "<tbody>\n",
              "\t<tr><td>-1.0</td><td>4</td><td>600</td><td> 5</td><td>44550000</td><td>1</td></tr>\n",
              "\t<tr><td>-1.0</td><td>4</td><td>400</td><td> 5</td><td>44550000</td><td>1</td></tr>\n",
              "\t<tr><td>-1.0</td><td>4</td><td>200</td><td> 5</td><td>44550000</td><td>1</td></tr>\n",
              "\t<tr><td>-1.0</td><td>4</td><td>100</td><td> 5</td><td>44550000</td><td>1</td></tr>\n",
              "\t<tr><td>-0.5</td><td>4</td><td>600</td><td> 5</td><td>44550000</td><td>1</td></tr>\n",
              "\t<tr><td>-0.5</td><td>4</td><td>400</td><td> 5</td><td>44550000</td><td>1</td></tr>\n",
              "\t<tr><td>-0.5</td><td>4</td><td>200</td><td> 5</td><td>44550000</td><td>1</td></tr>\n",
              "\t<tr><td>-0.5</td><td>4</td><td>100</td><td> 5</td><td>44550000</td><td>1</td></tr>\n",
              "\t<tr><td>-1.0</td><td>8</td><td>400</td><td>20</td><td>44300000</td><td>1</td></tr>\n",
              "\t<tr><td>-0.5</td><td>8</td><td>400</td><td>20</td><td>44300000</td><td>1</td></tr>\n",
              "</tbody>\n",
              "</table>\n"
            ],
            "text/markdown": "\nA data.table: 10 × 6\n\n| cp &lt;dbl&gt; | maxdepth &lt;int&gt; | minsplit &lt;int&gt; | minbucket &lt;int&gt; | ganancia_mean &lt;dbl&gt; | qty &lt;int&gt; |\n|---|---|---|---|---|---|\n| -1.0 | 4 | 600 |  5 | 44550000 | 1 |\n| -1.0 | 4 | 400 |  5 | 44550000 | 1 |\n| -1.0 | 4 | 200 |  5 | 44550000 | 1 |\n| -1.0 | 4 | 100 |  5 | 44550000 | 1 |\n| -0.5 | 4 | 600 |  5 | 44550000 | 1 |\n| -0.5 | 4 | 400 |  5 | 44550000 | 1 |\n| -0.5 | 4 | 200 |  5 | 44550000 | 1 |\n| -0.5 | 4 | 100 |  5 | 44550000 | 1 |\n| -1.0 | 8 | 400 | 20 | 44300000 | 1 |\n| -0.5 | 8 | 400 | 20 | 44300000 | 1 |\n\n",
            "text/latex": "A data.table: 10 × 6\n\\begin{tabular}{llllll}\n cp & maxdepth & minsplit & minbucket & ganancia\\_mean & qty\\\\\n <dbl> & <int> & <int> & <int> & <dbl> & <int>\\\\\n\\hline\n\t -1.0 & 4 & 600 &  5 & 44550000 & 1\\\\\n\t -1.0 & 4 & 400 &  5 & 44550000 & 1\\\\\n\t -1.0 & 4 & 200 &  5 & 44550000 & 1\\\\\n\t -1.0 & 4 & 100 &  5 & 44550000 & 1\\\\\n\t -0.5 & 4 & 600 &  5 & 44550000 & 1\\\\\n\t -0.5 & 4 & 400 &  5 & 44550000 & 1\\\\\n\t -0.5 & 4 & 200 &  5 & 44550000 & 1\\\\\n\t -0.5 & 4 & 100 &  5 & 44550000 & 1\\\\\n\t -1.0 & 8 & 400 & 20 & 44300000 & 1\\\\\n\t -0.5 & 8 & 400 & 20 & 44300000 & 1\\\\\n\\end{tabular}\n",
            "text/plain": [
              "   cp   maxdepth minsplit minbucket ganancia_mean qty\n",
              "1  -1.0 4        600       5        44550000      1  \n",
              "2  -1.0 4        400       5        44550000      1  \n",
              "3  -1.0 4        200       5        44550000      1  \n",
              "4  -1.0 4        100       5        44550000      1  \n",
              "5  -0.5 4        600       5        44550000      1  \n",
              "6  -0.5 4        400       5        44550000      1  \n",
              "7  -0.5 4        200       5        44550000      1  \n",
              "8  -0.5 4        100       5        44550000      1  \n",
              "9  -1.0 8        400      20        44300000      1  \n",
              "10 -0.5 8        400      20        44300000      1  "
            ]
          },
          "metadata": {}
        }
      ]
    },
    {
      "cell_type": "code",
      "source": [
        "# genero un id a la tabla\n",
        "tb_grid_search[, id := .I ]\n",
        "\n",
        "fwrite( tb_grid_search,\n",
        "  file = \"gridsearch.txt\",\n",
        "  sep = \"\\t\"\n",
        ")\n"
      ],
      "metadata": {
        "id": "K3S-I2PTI5ZE"
      },
      "execution_count": 20,
      "outputs": []
    },
    {
      "cell_type": "markdown",
      "source": [
        "# 4.  Análisis de resultados de Grid Search"
      ],
      "metadata": {
        "id": "1rYHk1YkI_9k"
      }
    },
    {
      "cell_type": "markdown",
      "source": [
        "La salida de la corrida anterior queda en ~/buckets/b1/exp/HT2900  que corresponde a su Google Drive\n",
        "<br>HT significa Hyperparameter Tuning\n",
        "<br>El Grid Search es un método de fuerza bruta de un altísimo costo computacional.\n",
        "<br>Queremos ver si es posible crear un algoritmo de optimización de hiperparámetros que se ahorre recorrer ciertas porciones muy malas del espacio de búsqueda. Algo del estilo “cada vez que pruebo una combinación de hiperparámetros donde  cp > 1 , la ganancia es muy mala, con lo cual ni vale la pena perder el tiempo explorando en esa region”\n"
      ],
      "metadata": {
        "id": "ZTJgPhMWJHTk"
      }
    },
    {
      "cell_type": "markdown",
      "source": [
        "<br>Levante el archivo de salida gridsearch.txt  a una planilla tipo Excel y analícelo detenidamente\n",
        "<br>Ordene por ganancia_mean descendente\n",
        "<br>\n",
        "<br>El de mayor ganancia_mean  decimos que es el primero del ranking\n",
        "En Zulip, correspondiente channel  #Tarea Hogar 02 , topic Analisis Grid Search   intente contestar estas preguntas:\n",
        "\n",
        "* ¿Qué combinaciones de hiperparámetros poseen una ganancia muy buena?\n",
        "* ¿Hay algun hiperparámetro que para cierto valor siempre genera una ganancia muy mala, a independientemente de lo que valgan los otros hiperparámetros ?\n",
        "* ¿Que combinaciones de hiperparámetros es pésima y hubiera sido bueno ahorrarse esas corridas ?\n",
        "\n",
        "( tiempo estimado 30 minutos, dificultad media )"
      ],
      "metadata": {
        "id": "IaVgMu4tPwyB"
      }
    }
  ]
}